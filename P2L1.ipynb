{
 "cells": [
  {
   "cell_type": "markdown",
   "id": "1b494fc6",
   "metadata": {},
   "source": [
    "# Урок 1. Оформление ноутбука и закрепление функций и генераторов\n",
    "\n",
    "## Условие 1\n",
    "\n",
    "Оформляйте ноутбук, используя эти советы:\n",
    "\n",
    "- Номер задачи - заголовок 2\n",
    "- Номер подзадачи - заголовок 3\n",
    "- Предоставленные наборы данных оформляйте, как код\n",
    "\n",
    "Рекомендации для преподавателей по оценке задания:\n",
    "\n",
    "- Смотреть, чтобы студент красиво оформлял ноутбук, использовал ячейки с текстом, указывал номера заданий\n",
    "\n",
    "## Условие 2\n",
    "\n",
    "На складе лежат разные фрукты в разном количестве.\n",
    "\n",
    "Нужно написать функцию, которая на вход принимает любое количество названий фруктов и их количество, а возвращает общее количество фруктов на складе"
   ]
  },
  {
   "cell_type": "code",
   "execution_count": 13,
   "id": "366f00f7",
   "metadata": {},
   "outputs": [
    {
     "data": {
      "text/plain": [
       "391"
      ]
     },
     "execution_count": 13,
     "metadata": {},
     "output_type": "execute_result"
    }
   ],
   "source": [
    "def fruits_count(**fruits):\n",
    "    summ = 0\n",
    "    for col in fruits.values():\n",
    "        summ += col\n",
    "    return summ\n",
    "\n",
    "fruits_count(яблок=230, апельсинов=77, бананов=83, ананас=1)"
   ]
  },
  {
   "cell_type": "markdown",
   "id": "aaa9ee51",
   "metadata": {},
   "source": [
    "## Условие 3\n",
    "\n",
    "Дан список с затратами на рекламу. Но в данных есть ошибки, некоторые затраты имеют отрицательную величину. Удалите такие значения из списка и посчитайте суммарные затраты"
   ]
  },
  {
   "cell_type": "code",
   "execution_count": 14,
   "id": "bccbcf8f",
   "metadata": {},
   "outputs": [],
   "source": [
    "data = [100, 125, -90, 345, 655, -1, 0, 200]"
   ]
  },
  {
   "cell_type": "markdown",
   "id": "0438a2fd",
   "metadata": {},
   "source": [
    "Используйте list comprehensions"
   ]
  },
  {
   "cell_type": "code",
   "execution_count": 15,
   "id": "1bacb570",
   "metadata": {},
   "outputs": [
    {
     "data": {
      "text/plain": [
       "1425"
      ]
     },
     "execution_count": 15,
     "metadata": {},
     "output_type": "execute_result"
    }
   ],
   "source": [
    "sum([i for i in data if i > 0])"
   ]
  },
  {
   "cell_type": "markdown",
   "id": "d93849b6",
   "metadata": {},
   "source": [
    "## 4 задача\n",
    "\n",
    "Даны два списка.\n",
    "\n",
    "Дата покупки"
   ]
  },
  {
   "cell_type": "code",
   "execution_count": 17,
   "id": "c771f58e",
   "metadata": {},
   "outputs": [],
   "source": [
    "data_dates = ['2021-09-14', '2021-12-15', '2021-09-08', '2021-12-05', '2021-10-09', '2021-09-30', '2021-12-22',\n",
    "         '2021-11-29', '2021-12-24', '2021-11-26', '2021-10-27', '2021-12-18', '2021-11-09', '2021-11-23',\n",
    "         '2021-09-27', '2021-10-02', '2021-12-27', '2021-09-20', '2021-12-13', '2021-11-01', '2021-11-09',\n",
    "         '2021-12-06', '2021-12-08', '2021-10-09', '2021-10-31', '2021-09-30', '2021-11-09', '2021-12-13',\n",
    "         '2021-10-26', '2021-12-09']"
   ]
  },
  {
   "cell_type": "markdown",
   "id": "b6dd7f1f",
   "metadata": {},
   "source": [
    "Суммы покупок по датам"
   ]
  },
  {
   "cell_type": "code",
   "execution_count": 18,
   "id": "dbef3766",
   "metadata": {},
   "outputs": [],
   "source": [
    "data_sums = [1270, 8413, 9028, 3703, 5739, 4095, 295, 4944, 5723, 3701,\n",
    "          4471, 651, 7037, 4274, 6275, 4988, 6930, 2971, 6592, 2004,\n",
    "          2822, 519, 3406, 2732, 5015, 2008, 316, 6333, 5700, 2887]"
   ]
  },
  {
   "cell_type": "markdown",
   "id": "cd243cd0",
   "metadata": {},
   "source": [
    "### Условие 4.1\n",
    "\n",
    "Найдите, какая выручка у компании в ноябре\n",
    "\n",
    "Используйте list comprehensions"
   ]
  },
  {
   "cell_type": "code",
   "execution_count": 19,
   "id": "02e0d914",
   "metadata": {},
   "outputs": [
    {
     "data": {
      "text/plain": [
       "25098"
      ]
     },
     "execution_count": 19,
     "metadata": {},
     "output_type": "execute_result"
    }
   ],
   "source": [
    "sum([data_sums[i] for i in range(len(data_dates)) if data_dates[i].split('-')[1] == '11'])"
   ]
  },
  {
   "cell_type": "markdown",
   "id": "49472fb4",
   "metadata": {},
   "source": [
    "### Условие 4.2\n",
    "\n",
    "Найдите выручку компании в зависимости от месяца\n",
    "\n",
    "Для этого напишите функцию, которая на вход принимает список с датами и список с выручкой, а на выходе словарь, где ключи - это месяцы, а значения - это выручка.\n",
    "\n",
    "Используйте аннотирование типов."
   ]
  },
  {
   "cell_type": "code",
   "execution_count": 24,
   "id": "10cfd40b",
   "metadata": {},
   "outputs": [
    {
     "data": {
      "text/plain": [
       "{'09': 25647, '12': 45452, '10': 28645, '11': 25098}"
      ]
     },
     "execution_count": 24,
     "metadata": {},
     "output_type": "execute_result"
    }
   ],
   "source": [
    "def calc_sums_by_month(dates: list, sums: list) -> dict:\n",
    "    ret = {}\n",
    "    \n",
    "    for i in range(len(dates)):\n",
    "        m = dates[i].split('-')[1]\n",
    "        if m in ret.keys():\n",
    "            ret[m] += sums[i]\n",
    "        else:\n",
    "            ret[m] = sums[i]\n",
    "            \n",
    "    return ret\n",
    "\n",
    "calc_sums_by_month(data_dates, data_sums)"
   ]
  }
 ],
 "metadata": {
  "kernelspec": {
   "display_name": "Python 3 (ipykernel)",
   "language": "python",
   "name": "python3"
  },
  "language_info": {
   "codemirror_mode": {
    "name": "ipython",
    "version": 3
   },
   "file_extension": ".py",
   "mimetype": "text/x-python",
   "name": "python",
   "nbconvert_exporter": "python",
   "pygments_lexer": "ipython3",
   "version": "3.9.13"
  }
 },
 "nbformat": 4,
 "nbformat_minor": 5
}
